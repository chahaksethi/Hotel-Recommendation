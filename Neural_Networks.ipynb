{
 "cells": [
  {
   "cell_type": "code",
   "execution_count": 1,
   "id": "68e7e25f",
   "metadata": {},
   "outputs": [],
   "source": [
    "# import pytorch libraries\n",
    "%matplotlib inline\n",
    "import torch \n",
    "import torch.autograd as autograd \n",
    "import torch.nn as nn \n",
    "import torch.nn.functional as F\n",
    "import torch.optim as optim\n",
    "import numpy as np\n",
    "import pandas as pd\n",
    "import random\n",
    "import scipy\n",
    "from scipy import sparse \n",
    "import itertools\n",
    "from sklearn.metrics import accuracy_score\n",
    "from collections import defaultdict, Counter\n",
    "import pickle\n",
    "from sklearn.model_selection import train_test_split\n",
    "import warnings\n",
    "warnings.filterwarnings(\"ignore\")"
   ]
  },
  {
   "cell_type": "code",
   "execution_count": 2,
   "id": "639a5741",
   "metadata": {},
   "outputs": [
    {
     "data": {
      "text/html": [
       "<div>\n",
       "<style scoped>\n",
       "    .dataframe tbody tr th:only-of-type {\n",
       "        vertical-align: middle;\n",
       "    }\n",
       "\n",
       "    .dataframe tbody tr th {\n",
       "        vertical-align: top;\n",
       "    }\n",
       "\n",
       "    .dataframe thead th {\n",
       "        text-align: right;\n",
       "    }\n",
       "</style>\n",
       "<table border=\"1\" class=\"dataframe\">\n",
       "  <thead>\n",
       "    <tr style=\"text-align: right;\">\n",
       "      <th></th>\n",
       "      <th>user_id</th>\n",
       "      <th>item_id</th>\n",
       "      <th>context_feature_id</th>\n",
       "      <th>rating</th>\n",
       "    </tr>\n",
       "  </thead>\n",
       "  <tbody>\n",
       "    <tr>\n",
       "      <th>0</th>\n",
       "      <td>0</td>\n",
       "      <td>28366</td>\n",
       "      <td>2</td>\n",
       "      <td>1</td>\n",
       "    </tr>\n",
       "    <tr>\n",
       "      <th>1</th>\n",
       "      <td>0</td>\n",
       "      <td>16109</td>\n",
       "      <td>2</td>\n",
       "      <td>1</td>\n",
       "    </tr>\n",
       "  </tbody>\n",
       "</table>\n",
       "</div>"
      ],
      "text/plain": [
       "   user_id  item_id  context_feature_id  rating\n",
       "0        0    28366                   2       1\n",
       "1        0    16109                   2       1"
      ]
     },
     "execution_count": 2,
     "metadata": {},
     "output_type": "execute_result"
    }
   ],
   "source": [
    "ratings_df = pd.read_csv('training.csv')\n",
    "ratings_df['rating'] = 1\n",
    "ratings_df.head(2)"
   ]
  },
  {
   "cell_type": "code",
   "execution_count": 3,
   "id": "b90099b1",
   "metadata": {},
   "outputs": [
    {
     "data": {
      "text/html": [
       "<div>\n",
       "<style scoped>\n",
       "    .dataframe tbody tr th:only-of-type {\n",
       "        vertical-align: middle;\n",
       "    }\n",
       "\n",
       "    .dataframe tbody tr th {\n",
       "        vertical-align: top;\n",
       "    }\n",
       "\n",
       "    .dataframe thead th {\n",
       "        text-align: right;\n",
       "    }\n",
       "</style>\n",
       "<table border=\"1\" class=\"dataframe\">\n",
       "  <thead>\n",
       "    <tr style=\"text-align: right;\">\n",
       "      <th></th>\n",
       "      <th>item_id</th>\n",
       "      <th>item_feature_id</th>\n",
       "    </tr>\n",
       "  </thead>\n",
       "  <tbody>\n",
       "    <tr>\n",
       "      <th>0</th>\n",
       "      <td>0</td>\n",
       "      <td>139</td>\n",
       "    </tr>\n",
       "    <tr>\n",
       "      <th>1</th>\n",
       "      <td>1</td>\n",
       "      <td>55</td>\n",
       "    </tr>\n",
       "  </tbody>\n",
       "</table>\n",
       "</div>"
      ],
      "text/plain": [
       "   item_id  item_feature_id\n",
       "0        0              139\n",
       "1        1               55"
      ]
     },
     "execution_count": 3,
     "metadata": {},
     "output_type": "execute_result"
    }
   ],
   "source": [
    "item_df = pd.read_csv('item_feature.csv')\n",
    "item_df.head(2)"
   ]
  },
  {
   "cell_type": "code",
   "execution_count": 4,
   "id": "33a20d21",
   "metadata": {},
   "outputs": [],
   "source": [
    "df_mode = ratings_df.groupby('user_id')['context_feature_id']\\\n",
    "                    .agg(lambda x: pd.Series.mode(x)[0]).to_frame().reset_index()"
   ]
  },
  {
   "cell_type": "code",
   "execution_count": 5,
   "id": "82b06144",
   "metadata": {},
   "outputs": [
    {
     "data": {
      "text/html": [
       "<div>\n",
       "<style scoped>\n",
       "    .dataframe tbody tr th:only-of-type {\n",
       "        vertical-align: middle;\n",
       "    }\n",
       "\n",
       "    .dataframe tbody tr th {\n",
       "        vertical-align: top;\n",
       "    }\n",
       "\n",
       "    .dataframe thead th {\n",
       "        text-align: right;\n",
       "    }\n",
       "</style>\n",
       "<table border=\"1\" class=\"dataframe\">\n",
       "  <thead>\n",
       "    <tr style=\"text-align: right;\">\n",
       "      <th></th>\n",
       "      <th>user_id</th>\n",
       "      <th>context_feature_id</th>\n",
       "    </tr>\n",
       "  </thead>\n",
       "  <tbody>\n",
       "    <tr>\n",
       "      <th>0</th>\n",
       "      <td>0</td>\n",
       "      <td>2</td>\n",
       "    </tr>\n",
       "    <tr>\n",
       "      <th>1</th>\n",
       "      <td>1</td>\n",
       "      <td>2</td>\n",
       "    </tr>\n",
       "  </tbody>\n",
       "</table>\n",
       "</div>"
      ],
      "text/plain": [
       "   user_id  context_feature_id\n",
       "0        0                   2\n",
       "1        1                   2"
      ]
     },
     "execution_count": 5,
     "metadata": {},
     "output_type": "execute_result"
    }
   ],
   "source": [
    "df_mode.head(2)"
   ]
  },
  {
   "cell_type": "markdown",
   "id": "81e5f0ec",
   "metadata": {},
   "source": [
    "### Negative Sampling"
   ]
  },
  {
   "cell_type": "code",
   "execution_count": 6,
   "id": "0f2e5805",
   "metadata": {},
   "outputs": [],
   "source": [
    "# key = user_id; value = set(item1, item2,.....) which the user has interaction with\n",
    "positive_user_dic = defaultdict(set)\n",
    "present_tuple_list = [tuple(x) for x in ratings_df[['user_id', 'item_id']].to_numpy()]\n",
    "for key, val in present_tuple_list:\n",
    "    positive_user_dic[key].add(val)\n",
    "\n",
    "# all items set\n",
    "all_items_set = set(ratings_df.item_id)\n",
    "\n",
    "# finding most common k items\n",
    "most_common_item_set = set([x[0] for x in Counter(ratings_df.item_id).most_common(100)])\n",
    "\n",
    "# uncommon item set\n",
    "uncommon_item_set = all_items_set - most_common_item_set\n",
    "\n",
    "# key = user_id, val = num occurences in training data\n",
    "freq_users_dic = Counter(ratings_df.user_id)"
   ]
  },
  {
   "cell_type": "code",
   "execution_count": 7,
   "id": "8e54e2a9",
   "metadata": {
    "scrolled": true
   },
   "outputs": [],
   "source": [
    "negative_user_dic = {}\n",
    "# for ix, user in enumerate(positive_user_dic):\n",
    "#     if ix % 10000 == 0 : print(f'Processed for {ix} users')\n",
    "#     neg_items = np.random.choice(list(uncommon_item_set - positive_user_dic[user]), size=freq_users_dic[user] * 4)\n",
    "#     negative_user_dic[user] = neg_items\n",
    "    \n",
    "# with open('negative_user_dic_v2.pkl', 'wb') as handle:\n",
    "#     pickle.dump(negative_user_dic, handle)\n",
    "    \n",
    "with open('negative_user_dic_v3.pkl', 'rb') as handle:\n",
    "    negative_user_dic = pickle.load(handle)"
   ]
  },
  {
   "cell_type": "code",
   "execution_count": 8,
   "id": "4d84181d",
   "metadata": {},
   "outputs": [],
   "source": [
    "negative_record_list = []\n",
    "for user in negative_user_dic:\n",
    "    for item in negative_user_dic[user]:\n",
    "        record = {}\n",
    "        record['user_id'] = user\n",
    "        record['item_id'] = item\n",
    "        record['rating'] = 0\n",
    "        negative_record_list.append(record)\n",
    "negative_df = pd.DataFrame(negative_record_list)"
   ]
  },
  {
   "cell_type": "code",
   "execution_count": 9,
   "id": "5f84275a",
   "metadata": {},
   "outputs": [
    {
     "data": {
      "text/html": [
       "<div>\n",
       "<style scoped>\n",
       "    .dataframe tbody tr th:only-of-type {\n",
       "        vertical-align: middle;\n",
       "    }\n",
       "\n",
       "    .dataframe tbody tr th {\n",
       "        vertical-align: top;\n",
       "    }\n",
       "\n",
       "    .dataframe thead th {\n",
       "        text-align: right;\n",
       "    }\n",
       "</style>\n",
       "<table border=\"1\" class=\"dataframe\">\n",
       "  <thead>\n",
       "    <tr style=\"text-align: right;\">\n",
       "      <th></th>\n",
       "      <th>user_id</th>\n",
       "      <th>item_id</th>\n",
       "      <th>rating</th>\n",
       "    </tr>\n",
       "  </thead>\n",
       "  <tbody>\n",
       "    <tr>\n",
       "      <th>0</th>\n",
       "      <td>0</td>\n",
       "      <td>23054</td>\n",
       "      <td>0</td>\n",
       "    </tr>\n",
       "    <tr>\n",
       "      <th>1</th>\n",
       "      <td>0</td>\n",
       "      <td>3774</td>\n",
       "      <td>0</td>\n",
       "    </tr>\n",
       "  </tbody>\n",
       "</table>\n",
       "</div>"
      ],
      "text/plain": [
       "   user_id  item_id  rating\n",
       "0        0    23054       0\n",
       "1        0     3774       0"
      ]
     },
     "execution_count": 9,
     "metadata": {},
     "output_type": "execute_result"
    }
   ],
   "source": [
    "negative_df.head(2)"
   ]
  },
  {
   "cell_type": "code",
   "execution_count": 10,
   "id": "bfc97048",
   "metadata": {},
   "outputs": [
    {
     "data": {
      "text/html": [
       "<div>\n",
       "<style scoped>\n",
       "    .dataframe tbody tr th:only-of-type {\n",
       "        vertical-align: middle;\n",
       "    }\n",
       "\n",
       "    .dataframe tbody tr th {\n",
       "        vertical-align: top;\n",
       "    }\n",
       "\n",
       "    .dataframe thead th {\n",
       "        text-align: right;\n",
       "    }\n",
       "</style>\n",
       "<table border=\"1\" class=\"dataframe\">\n",
       "  <thead>\n",
       "    <tr style=\"text-align: right;\">\n",
       "      <th></th>\n",
       "      <th>user_id</th>\n",
       "      <th>context_feature_id</th>\n",
       "    </tr>\n",
       "  </thead>\n",
       "  <tbody>\n",
       "    <tr>\n",
       "      <th>0</th>\n",
       "      <td>0</td>\n",
       "      <td>2</td>\n",
       "    </tr>\n",
       "    <tr>\n",
       "      <th>1</th>\n",
       "      <td>1</td>\n",
       "      <td>2</td>\n",
       "    </tr>\n",
       "  </tbody>\n",
       "</table>\n",
       "</div>"
      ],
      "text/plain": [
       "   user_id  context_feature_id\n",
       "0        0                   2\n",
       "1        1                   2"
      ]
     },
     "execution_count": 10,
     "metadata": {},
     "output_type": "execute_result"
    }
   ],
   "source": [
    "df_mode.head(2)"
   ]
  },
  {
   "cell_type": "code",
   "execution_count": 11,
   "id": "71e1dcae",
   "metadata": {},
   "outputs": [],
   "source": [
    "#Merging negative df with the context feature id\n",
    "negative_df_con = negative_df.merge(df_mode, on='user_id')"
   ]
  },
  {
   "cell_type": "code",
   "execution_count": 12,
   "id": "312b0f73",
   "metadata": {},
   "outputs": [
    {
     "data": {
      "text/html": [
       "<div>\n",
       "<style scoped>\n",
       "    .dataframe tbody tr th:only-of-type {\n",
       "        vertical-align: middle;\n",
       "    }\n",
       "\n",
       "    .dataframe tbody tr th {\n",
       "        vertical-align: top;\n",
       "    }\n",
       "\n",
       "    .dataframe thead th {\n",
       "        text-align: right;\n",
       "    }\n",
       "</style>\n",
       "<table border=\"1\" class=\"dataframe\">\n",
       "  <thead>\n",
       "    <tr style=\"text-align: right;\">\n",
       "      <th></th>\n",
       "      <th>user_id</th>\n",
       "      <th>item_id</th>\n",
       "      <th>rating</th>\n",
       "      <th>context_feature_id</th>\n",
       "    </tr>\n",
       "  </thead>\n",
       "  <tbody>\n",
       "    <tr>\n",
       "      <th>0</th>\n",
       "      <td>0</td>\n",
       "      <td>23054</td>\n",
       "      <td>0</td>\n",
       "      <td>2</td>\n",
       "    </tr>\n",
       "    <tr>\n",
       "      <th>1</th>\n",
       "      <td>0</td>\n",
       "      <td>3774</td>\n",
       "      <td>0</td>\n",
       "      <td>2</td>\n",
       "    </tr>\n",
       "  </tbody>\n",
       "</table>\n",
       "</div>"
      ],
      "text/plain": [
       "   user_id  item_id  rating  context_feature_id\n",
       "0        0    23054       0                   2\n",
       "1        0     3774       0                   2"
      ]
     },
     "execution_count": 12,
     "metadata": {},
     "output_type": "execute_result"
    }
   ],
   "source": [
    "negative_df_con.head(2)"
   ]
  },
  {
   "cell_type": "code",
   "execution_count": 13,
   "id": "95aeabf6",
   "metadata": {},
   "outputs": [
    {
     "data": {
      "text/html": [
       "<div>\n",
       "<style scoped>\n",
       "    .dataframe tbody tr th:only-of-type {\n",
       "        vertical-align: middle;\n",
       "    }\n",
       "\n",
       "    .dataframe tbody tr th {\n",
       "        vertical-align: top;\n",
       "    }\n",
       "\n",
       "    .dataframe thead th {\n",
       "        text-align: right;\n",
       "    }\n",
       "</style>\n",
       "<table border=\"1\" class=\"dataframe\">\n",
       "  <thead>\n",
       "    <tr style=\"text-align: right;\">\n",
       "      <th></th>\n",
       "      <th>user_id</th>\n",
       "      <th>item_id</th>\n",
       "      <th>context_feature_id</th>\n",
       "      <th>rating</th>\n",
       "    </tr>\n",
       "  </thead>\n",
       "  <tbody>\n",
       "    <tr>\n",
       "      <th>0</th>\n",
       "      <td>0</td>\n",
       "      <td>28366</td>\n",
       "      <td>2</td>\n",
       "      <td>1</td>\n",
       "    </tr>\n",
       "    <tr>\n",
       "      <th>1</th>\n",
       "      <td>0</td>\n",
       "      <td>16109</td>\n",
       "      <td>2</td>\n",
       "      <td>1</td>\n",
       "    </tr>\n",
       "  </tbody>\n",
       "</table>\n",
       "</div>"
      ],
      "text/plain": [
       "   user_id  item_id  context_feature_id  rating\n",
       "0        0    28366                   2       1\n",
       "1        0    16109                   2       1"
      ]
     },
     "execution_count": 13,
     "metadata": {},
     "output_type": "execute_result"
    }
   ],
   "source": [
    "ratings_df.head(2)"
   ]
  },
  {
   "cell_type": "code",
   "execution_count": 14,
   "id": "3a90db48",
   "metadata": {},
   "outputs": [],
   "source": [
    "df_final = ratings_df[['user_id', 'item_id', 'rating', 'context_feature_id']].append(negative_df_con)"
   ]
  },
  {
   "cell_type": "code",
   "execution_count": 15,
   "id": "78b8d39e",
   "metadata": {},
   "outputs": [
    {
     "data": {
      "text/html": [
       "<div>\n",
       "<style scoped>\n",
       "    .dataframe tbody tr th:only-of-type {\n",
       "        vertical-align: middle;\n",
       "    }\n",
       "\n",
       "    .dataframe tbody tr th {\n",
       "        vertical-align: top;\n",
       "    }\n",
       "\n",
       "    .dataframe thead th {\n",
       "        text-align: right;\n",
       "    }\n",
       "</style>\n",
       "<table border=\"1\" class=\"dataframe\">\n",
       "  <thead>\n",
       "    <tr style=\"text-align: right;\">\n",
       "      <th></th>\n",
       "      <th>user_id</th>\n",
       "      <th>item_id</th>\n",
       "      <th>rating</th>\n",
       "      <th>context_feature_id</th>\n",
       "    </tr>\n",
       "  </thead>\n",
       "  <tbody>\n",
       "    <tr>\n",
       "      <th>1940488</th>\n",
       "      <td>200152</td>\n",
       "      <td>1406</td>\n",
       "      <td>0</td>\n",
       "      <td>2</td>\n",
       "    </tr>\n",
       "    <tr>\n",
       "      <th>1940489</th>\n",
       "      <td>200152</td>\n",
       "      <td>39300</td>\n",
       "      <td>0</td>\n",
       "      <td>2</td>\n",
       "    </tr>\n",
       "  </tbody>\n",
       "</table>\n",
       "</div>"
      ],
      "text/plain": [
       "         user_id  item_id  rating  context_feature_id\n",
       "1940488   200152     1406       0                   2\n",
       "1940489   200152    39300       0                   2"
      ]
     },
     "execution_count": 15,
     "metadata": {},
     "output_type": "execute_result"
    }
   ],
   "source": [
    "df_final.tail(2)"
   ]
  },
  {
   "cell_type": "code",
   "execution_count": 16,
   "id": "a77edd7a",
   "metadata": {},
   "outputs": [
    {
     "data": {
      "text/plain": [
       "(1940490, 4)"
      ]
     },
     "execution_count": 16,
     "metadata": {},
     "output_type": "execute_result"
    }
   ],
   "source": [
    "df_final = df_final.merge(item_df, on='item_id')\n",
    "negative_df_con.shape"
   ]
  },
  {
   "cell_type": "code",
   "execution_count": 17,
   "id": "f7e4d2b1",
   "metadata": {},
   "outputs": [
    {
     "data": {
      "text/html": [
       "<div>\n",
       "<style scoped>\n",
       "    .dataframe tbody tr th:only-of-type {\n",
       "        vertical-align: middle;\n",
       "    }\n",
       "\n",
       "    .dataframe tbody tr th {\n",
       "        vertical-align: top;\n",
       "    }\n",
       "\n",
       "    .dataframe thead th {\n",
       "        text-align: right;\n",
       "    }\n",
       "</style>\n",
       "<table border=\"1\" class=\"dataframe\">\n",
       "  <thead>\n",
       "    <tr style=\"text-align: right;\">\n",
       "      <th></th>\n",
       "      <th>user_id</th>\n",
       "      <th>item_id</th>\n",
       "      <th>rating</th>\n",
       "      <th>context_feature_id</th>\n",
       "      <th>item_feature_id</th>\n",
       "    </tr>\n",
       "  </thead>\n",
       "  <tbody>\n",
       "    <tr>\n",
       "      <th>0</th>\n",
       "      <td>0</td>\n",
       "      <td>28366</td>\n",
       "      <td>1</td>\n",
       "      <td>2</td>\n",
       "      <td>7</td>\n",
       "    </tr>\n",
       "    <tr>\n",
       "      <th>1</th>\n",
       "      <td>1731</td>\n",
       "      <td>28366</td>\n",
       "      <td>1</td>\n",
       "      <td>1</td>\n",
       "      <td>7</td>\n",
       "    </tr>\n",
       "  </tbody>\n",
       "</table>\n",
       "</div>"
      ],
      "text/plain": [
       "   user_id  item_id  rating  context_feature_id  item_feature_id\n",
       "0        0    28366       1                   2                7\n",
       "1     1731    28366       1                   1                7"
      ]
     },
     "execution_count": 17,
     "metadata": {},
     "output_type": "execute_result"
    }
   ],
   "source": [
    "df_final.head(2)"
   ]
  },
  {
   "cell_type": "code",
   "execution_count": 18,
   "id": "e586a264",
   "metadata": {},
   "outputs": [
    {
     "data": {
      "text/plain": [
       "0    1940490\n",
       "1     970245\n",
       "Name: rating, dtype: int64"
      ]
     },
     "execution_count": 18,
     "metadata": {},
     "output_type": "execute_result"
    }
   ],
   "source": [
    "df_final.rating.value_counts()"
   ]
  },
  {
   "cell_type": "markdown",
   "id": "603e8e8b",
   "metadata": {},
   "source": [
    "### Splitting and Encoding data"
   ]
  },
  {
   "cell_type": "code",
   "execution_count": 19,
   "id": "884a1bac",
   "metadata": {},
   "outputs": [],
   "source": [
    "train, valid = train_test_split(df_final, test_size=0.2, shuffle=True, stratify=df_final['rating'])"
   ]
  },
  {
   "cell_type": "code",
   "execution_count": 20,
   "id": "513c55e7",
   "metadata": {},
   "outputs": [],
   "source": [
    "# starting encoding from 1. Keeping 0 reserved for the average encoding\n",
    "\n",
    "train_user_ids = np.sort(np.unique(train.user_id.values))\n",
    "userid2idx = {o:i+1 for i,o in enumerate(train_user_ids)}\n",
    "train[\"user_id\"] = train[\"user_id\"].apply(lambda x: userid2idx[x])\n",
    "valid[\"user_id\"] = valid[\"user_id\"].apply(lambda x: userid2idx.get(x,0))\n",
    "\n",
    "train_item_ids = np.sort(np.unique(train.item_id.values))\n",
    "item2idx = {o:i+1 for i,o in enumerate(train_item_ids)}\n",
    "train[\"item_id\"] = train[\"item_id\"].apply(lambda x: item2idx[x])\n",
    "valid[\"item_id\"] = valid[\"item_id\"].apply(lambda x: item2idx.get(x, 0))"
   ]
  },
  {
   "cell_type": "code",
   "execution_count": 21,
   "id": "3cee0d44",
   "metadata": {},
   "outputs": [
    {
     "data": {
      "text/plain": [
       "(169693, 169692)"
      ]
     },
     "execution_count": 21,
     "metadata": {},
     "output_type": "execute_result"
    }
   ],
   "source": [
    "train.user_id.max() + 1, train.user_id.nunique()"
   ]
  },
  {
   "cell_type": "code",
   "execution_count": 22,
   "id": "5fe9e601",
   "metadata": {
    "scrolled": true
   },
   "outputs": [],
   "source": [
    "user_prob = 0.01\n",
    "item_prob = 0.005\n",
    "\n",
    "user_random_indices = np.random.choice(train.index.values, size=int(user_prob * train.shape[0]), replace=False)\n",
    "item_random_indices = np.random.choice(train.index.values, size=int(item_prob * train.shape[0]), replace=False)\n",
    "train.loc[user_random_indices, 'user_id'] = 0\n",
    "train.loc[item_random_indices, 'item_id'] = 0\n",
    "\n",
    "user_random_indices = np.random.choice(valid.index.values, size=int(user_prob * valid.shape[0]), replace=False)\n",
    "item_random_indices = np.random.choice(valid.index.values, size=int(item_prob * valid.shape[0]), replace=False)\n",
    "valid.loc[user_random_indices, 'user_id'] = 0\n",
    "valid.loc[item_random_indices, 'item_id'] = 0"
   ]
  },
  {
   "cell_type": "code",
   "execution_count": 23,
   "id": "e215ba3e",
   "metadata": {},
   "outputs": [
    {
     "data": {
      "text/plain": [
       "(169693, 169692)"
      ]
     },
     "execution_count": 23,
     "metadata": {},
     "output_type": "execute_result"
    }
   ],
   "source": [
    "train.user_id.max() + 1, train.user_id.nunique()"
   ]
  },
  {
   "cell_type": "code",
   "execution_count": 24,
   "id": "c0a1e091",
   "metadata": {},
   "outputs": [
    {
     "data": {
      "text/plain": [
       "(0.01, 0.0)"
      ]
     },
     "execution_count": 24,
     "metadata": {},
     "output_type": "execute_result"
    }
   ],
   "source": [
    "round(train[train.user_id==0].shape[0]/train.shape[0], 3), round(train[train.item_id==0].shape[0]/train.shape[0], 2)"
   ]
  },
  {
   "cell_type": "code",
   "execution_count": 25,
   "id": "3f0cf4c7",
   "metadata": {},
   "outputs": [
    {
     "data": {
      "text/plain": [
       "(0.01, 0.0)"
      ]
     },
     "execution_count": 25,
     "metadata": {},
     "output_type": "execute_result"
    }
   ],
   "source": [
    "round(valid[valid.user_id==0].shape[0]/valid.shape[0], 3), round(valid[valid.item_id==0].shape[0]/valid.shape[0], 2)"
   ]
  },
  {
   "cell_type": "markdown",
   "id": "c0c47936",
   "metadata": {},
   "source": [
    "### Training MF model"
   ]
  },
  {
   "cell_type": "code",
   "execution_count": 26,
   "id": "1a84fe69",
   "metadata": {},
   "outputs": [],
   "source": [
    "class MF(nn.Module):\n",
    "    def __init__(self, num_users, num_items, num_item_feature, num_context_feature, emb_size=100):\n",
    "        super(MF, self).__init__()\n",
    "        self.emb_size = emb_size\n",
    "        # defining layers\n",
    "         # initialising the embedding and bias layer for Users\n",
    "        self.user_emb = nn.Embedding(num_users, emb_size)\n",
    "        self.item_emb = nn.Embedding(num_items, emb_size)\n",
    "        self.item_feature_emb = nn.Embedding(num_item_feature, 10)\n",
    "        self.context_feature_emb = nn.Embedding(num_context_feature, 5)\n",
    "        \n",
    "        # init layers\n",
    "        self.lin1 = nn.Linear(115, 10)\n",
    "        self.lin2 = nn.Linear(10, 1)\n",
    "        self.relu = nn.ReLU()\n",
    "        self.dropout = nn.Dropout(p=0.25)\n",
    "\n",
    "    def forward(self, u, v, ife, cfe):\n",
    "        ### BEGIN SOLUTION\n",
    "        U = self.user_emb(u)\n",
    "        V = self.item_emb(v)\n",
    "        IFE = self.item_feature_emb(ife)\n",
    "        CFE = self.context_feature_emb(cfe)\n",
    "        x = torch.cat([U, V, IFE, CFE], 1)    \n",
    "        x = self.dropout(x)\n",
    "        x = self.lin1(x)\n",
    "        x = self.relu(x)\n",
    "        x = self.dropout(x)\n",
    "        x = self.lin2(x)\n",
    "        return torch.sigmoid(x)\n",
    "    \n",
    "def train_one_epoch(model, train_df, optimizer):\n",
    "    \"\"\" Trains the model for one epoch\"\"\"\n",
    "    model.train()\n",
    "    ### BEGIN SOLUTION\n",
    "    users = torch.LongTensor(train_df.user_id.values)  \n",
    "    items = torch.LongTensor(train_df.item_id.values) \n",
    "    item_features = torch.LongTensor(train_df.item_feature_id.values)  \n",
    "    cont_features = torch.LongTensor(train_df.context_feature_id.values)\n",
    "    ratings = torch.FloatTensor(train_df.rating.values)  \n",
    "    \n",
    "    y_hat = model(users, items, item_features, cont_features).squeeze(1)\n",
    "    train_loss = F.binary_cross_entropy(y_hat, ratings)\n",
    "    optimizer.zero_grad()\n",
    "    train_loss.backward()\n",
    "    optimizer.step()\n",
    "    ### END SOLUTION\n",
    "    return train_loss.detach()\n",
    "\n",
    "def valid_metrics(model, valid_df):\n",
    "    \"\"\"Computes validation loss and accuracy\"\"\"\n",
    "    model.eval()\n",
    "    ### BEGIN SOLUTION\n",
    "    users = torch.LongTensor(valid_df.user_id.values) \n",
    "    items = torch.LongTensor(valid_df.item_id.values)\n",
    "    item_features = torch.LongTensor(valid_df.item_feature_id.values)  \n",
    "    cont_features = torch.LongTensor(valid_df.context_feature_id.values)\n",
    "    \n",
    "    ratings = torch.FloatTensor(valid_df.rating.values) \n",
    "    y_hat = model(users, items, item_features, cont_features).squeeze(1)\n",
    "    valid_loss = F.binary_cross_entropy(y_hat, ratings)\n",
    "    valid_acc = sum(np.where(y_hat < 0.5, 0, 1) == ratings.numpy()) / len(ratings.numpy())\n",
    "    ### END SOLUTION\n",
    "    return valid_loss.detach(), valid_acc\n",
    "\n",
    "\n",
    "def training(model, train_df, valid_df, epochs=10, lr=0.01, wd=0.0):\n",
    "    optimizer = torch.optim.Adam(model.parameters(), lr=lr, weight_decay=wd)\n",
    "    for i in range(epochs):\n",
    "        train_loss = train_one_epoch(model, train_df, optimizer)\n",
    "        valid_loss, valid_acc = valid_metrics(model, valid_df) \n",
    "        print(f\" epoch {i+1}: train loss %.3f valid loss %.3f valid acc %.3f\" % (train_loss, valid_loss, valid_acc)) "
   ]
  },
  {
   "cell_type": "code",
   "execution_count": 27,
   "id": "00d9bea1",
   "metadata": {},
   "outputs": [],
   "source": [
    "num_users = train.user_id.max() + 1\n",
    "num_items = train.item_id.max() + 1\n",
    "num_item_features = item_df.item_feature_id.max() + 1\n",
    "num_context_features = ratings_df.context_feature_id.max() + 1"
   ]
  },
  {
   "cell_type": "code",
   "execution_count": 28,
   "id": "8ec5c286",
   "metadata": {},
   "outputs": [
    {
     "name": "stdout",
     "output_type": "stream",
     "text": [
      "50\n",
      " epoch 1: train loss 0.677 valid loss 0.633 valid acc 0.667\n",
      " epoch 2: train loss 0.642 valid loss 0.617 valid acc 0.673\n",
      " epoch 3: train loss 0.628 valid loss 0.599 valid acc 0.684\n",
      " epoch 4: train loss 0.610 valid loss 0.581 valid acc 0.702\n",
      " epoch 5: train loss 0.592 valid loss 0.559 valid acc 0.730\n",
      " epoch 6: train loss 0.571 valid loss 0.525 valid acc 0.759\n",
      " epoch 7: train loss 0.540 valid loss 0.479 valid acc 0.792\n",
      " epoch 8: train loss 0.502 valid loss 0.427 valid acc 0.825\n",
      " epoch 9: train loss 0.460 valid loss 0.382 valid acc 0.850\n",
      " epoch 10: train loss 0.423 valid loss 0.352 valid acc 0.865\n"
     ]
    }
   ],
   "source": [
    "model_dic = {}\n",
    "size_range = [i for i in range(50, 51, 10)]\n",
    "for size in size_range:\n",
    "    print(size)\n",
    "    model = MF(num_users, num_items, num_item_features, num_context_features, emb_size=size)\n",
    "    training(model, train, valid, epochs = 10, lr=0.05, wd=1e-6)\n",
    "    model_dic[size] = model"
   ]
  },
  {
   "cell_type": "markdown",
   "id": "9b69146f",
   "metadata": {},
   "source": [
    "### Test predictions"
   ]
  },
  {
   "cell_type": "code",
   "execution_count": 29,
   "id": "fbf2fe1a",
   "metadata": {},
   "outputs": [
    {
     "data": {
      "text/html": [
       "<div>\n",
       "<style scoped>\n",
       "    .dataframe tbody tr th:only-of-type {\n",
       "        vertical-align: middle;\n",
       "    }\n",
       "\n",
       "    .dataframe tbody tr th {\n",
       "        vertical-align: top;\n",
       "    }\n",
       "\n",
       "    .dataframe thead th {\n",
       "        text-align: right;\n",
       "    }\n",
       "</style>\n",
       "<table border=\"1\" class=\"dataframe\">\n",
       "  <thead>\n",
       "    <tr style=\"text-align: right;\">\n",
       "      <th></th>\n",
       "      <th>id</th>\n",
       "      <th>user_id</th>\n",
       "      <th>item_id</th>\n",
       "      <th>context_feature_id</th>\n",
       "      <th>item_feature_id</th>\n",
       "    </tr>\n",
       "  </thead>\n",
       "  <tbody>\n",
       "    <tr>\n",
       "      <th>0</th>\n",
       "      <td>0</td>\n",
       "      <td>0</td>\n",
       "      <td>16033</td>\n",
       "      <td>2</td>\n",
       "      <td>142</td>\n",
       "    </tr>\n",
       "    <tr>\n",
       "      <th>25</th>\n",
       "      <td>1</td>\n",
       "      <td>0</td>\n",
       "      <td>21518</td>\n",
       "      <td>3</td>\n",
       "      <td>142</td>\n",
       "    </tr>\n",
       "    <tr>\n",
       "      <th>38</th>\n",
       "      <td>2</td>\n",
       "      <td>0</td>\n",
       "      <td>1879</td>\n",
       "      <td>1</td>\n",
       "      <td>142</td>\n",
       "    </tr>\n",
       "    <tr>\n",
       "      <th>77</th>\n",
       "      <td>3</td>\n",
       "      <td>0</td>\n",
       "      <td>27527</td>\n",
       "      <td>1</td>\n",
       "      <td>148</td>\n",
       "    </tr>\n",
       "    <tr>\n",
       "      <th>97</th>\n",
       "      <td>4</td>\n",
       "      <td>0</td>\n",
       "      <td>13755</td>\n",
       "      <td>2</td>\n",
       "      <td>63</td>\n",
       "    </tr>\n",
       "  </tbody>\n",
       "</table>\n",
       "</div>"
      ],
      "text/plain": [
       "    id  user_id  item_id  context_feature_id  item_feature_id\n",
       "0    0        0    16033                   2              142\n",
       "25   1        0    21518                   3              142\n",
       "38   2        0     1879                   1              142\n",
       "77   3        0    27527                   1              148\n",
       "97   4        0    13755                   2               63"
      ]
     },
     "execution_count": 29,
     "metadata": {},
     "output_type": "execute_result"
    }
   ],
   "source": [
    "test = pd.read_csv('test_kaggle.csv')\n",
    "test = test.merge(item_df, on='item_id')\n",
    "test[\"item_id\"] = test[\"item_id\"].apply(lambda x: item2idx.get(x, 0))\n",
    "test[\"user_id\"] = test[\"user_id\"].apply(lambda x: userid2idx.get(x,0))\n",
    "test = test.sort_values('id')\n",
    "test.head()"
   ]
  },
  {
   "cell_type": "code",
   "execution_count": 30,
   "id": "2bce8aae",
   "metadata": {
    "scrolled": true
   },
   "outputs": [],
   "source": [
    "users = torch.LongTensor(test.user_id.values)\n",
    "items = torch.LongTensor(test.item_id.values)\n",
    "item_features = torch.LongTensor(test.item_feature_id.values)\n",
    "context_features = torch.LongTensor(test.context_feature_id.values)\n",
    "for size in size_range:\n",
    "    col_name = 'size_' + str(size)\n",
    "    y_hat = model_dic[size](users, items, item_features, context_features)\n",
    "    test[col_name] = y_hat.detach().numpy()"
   ]
  },
  {
   "cell_type": "code",
   "execution_count": 31,
   "id": "124c06c7",
   "metadata": {},
   "outputs": [
    {
     "data": {
      "text/html": [
       "<div>\n",
       "<style scoped>\n",
       "    .dataframe tbody tr th:only-of-type {\n",
       "        vertical-align: middle;\n",
       "    }\n",
       "\n",
       "    .dataframe tbody tr th {\n",
       "        vertical-align: top;\n",
       "    }\n",
       "\n",
       "    .dataframe thead th {\n",
       "        text-align: right;\n",
       "    }\n",
       "</style>\n",
       "<table border=\"1\" class=\"dataframe\">\n",
       "  <thead>\n",
       "    <tr style=\"text-align: right;\">\n",
       "      <th></th>\n",
       "      <th>id</th>\n",
       "      <th>size_50</th>\n",
       "    </tr>\n",
       "  </thead>\n",
       "  <tbody>\n",
       "    <tr>\n",
       "      <th>0</th>\n",
       "      <td>0</td>\n",
       "      <td>0.513939</td>\n",
       "    </tr>\n",
       "    <tr>\n",
       "      <th>25</th>\n",
       "      <td>1</td>\n",
       "      <td>0.551575</td>\n",
       "    </tr>\n",
       "    <tr>\n",
       "      <th>38</th>\n",
       "      <td>2</td>\n",
       "      <td>0.468621</td>\n",
       "    </tr>\n",
       "    <tr>\n",
       "      <th>77</th>\n",
       "      <td>3</td>\n",
       "      <td>0.077152</td>\n",
       "    </tr>\n",
       "    <tr>\n",
       "      <th>97</th>\n",
       "      <td>4</td>\n",
       "      <td>0.036618</td>\n",
       "    </tr>\n",
       "  </tbody>\n",
       "</table>\n",
       "</div>"
      ],
      "text/plain": [
       "    id   size_50\n",
       "0    0  0.513939\n",
       "25   1  0.551575\n",
       "38   2  0.468621\n",
       "77   3  0.077152\n",
       "97   4  0.036618"
      ]
     },
     "execution_count": 31,
     "metadata": {},
     "output_type": "execute_result"
    }
   ],
   "source": [
    "test = test[['id'] + [col for col in test.columns if 'size' in col]]\n",
    "test.head()"
   ]
  },
  {
   "cell_type": "code",
   "execution_count": 32,
   "id": "ed5f50bc",
   "metadata": {},
   "outputs": [
    {
     "data": {
      "text/html": [
       "<div>\n",
       "<style scoped>\n",
       "    .dataframe tbody tr th:only-of-type {\n",
       "        vertical-align: middle;\n",
       "    }\n",
       "\n",
       "    .dataframe tbody tr th {\n",
       "        vertical-align: top;\n",
       "    }\n",
       "\n",
       "    .dataframe thead th {\n",
       "        text-align: right;\n",
       "    }\n",
       "</style>\n",
       "<table border=\"1\" class=\"dataframe\">\n",
       "  <thead>\n",
       "    <tr style=\"text-align: right;\">\n",
       "      <th></th>\n",
       "      <th>id</th>\n",
       "      <th>size_50</th>\n",
       "      <th>rating</th>\n",
       "    </tr>\n",
       "  </thead>\n",
       "  <tbody>\n",
       "    <tr>\n",
       "      <th>0</th>\n",
       "      <td>0</td>\n",
       "      <td>0.513939</td>\n",
       "      <td>0.513939</td>\n",
       "    </tr>\n",
       "    <tr>\n",
       "      <th>25</th>\n",
       "      <td>1</td>\n",
       "      <td>0.551575</td>\n",
       "      <td>0.551575</td>\n",
       "    </tr>\n",
       "    <tr>\n",
       "      <th>38</th>\n",
       "      <td>2</td>\n",
       "      <td>0.468621</td>\n",
       "      <td>0.468621</td>\n",
       "    </tr>\n",
       "    <tr>\n",
       "      <th>77</th>\n",
       "      <td>3</td>\n",
       "      <td>0.077152</td>\n",
       "      <td>0.077152</td>\n",
       "    </tr>\n",
       "    <tr>\n",
       "      <th>97</th>\n",
       "      <td>4</td>\n",
       "      <td>0.036618</td>\n",
       "      <td>0.036618</td>\n",
       "    </tr>\n",
       "  </tbody>\n",
       "</table>\n",
       "</div>"
      ],
      "text/plain": [
       "    id   size_50    rating\n",
       "0    0  0.513939  0.513939\n",
       "25   1  0.551575  0.551575\n",
       "38   2  0.468621  0.468621\n",
       "77   3  0.077152  0.077152\n",
       "97   4  0.036618  0.036618"
      ]
     },
     "execution_count": 32,
     "metadata": {},
     "output_type": "execute_result"
    }
   ],
   "source": [
    "test['rating'] = test.iloc[:, 1:].mean(axis=1)\n",
    "test.head()"
   ]
  },
  {
   "cell_type": "code",
   "execution_count": 33,
   "id": "1880048c",
   "metadata": {},
   "outputs": [
    {
     "data": {
      "text/html": [
       "<div>\n",
       "<style scoped>\n",
       "    .dataframe tbody tr th:only-of-type {\n",
       "        vertical-align: middle;\n",
       "    }\n",
       "\n",
       "    .dataframe tbody tr th {\n",
       "        vertical-align: top;\n",
       "    }\n",
       "\n",
       "    .dataframe thead th {\n",
       "        text-align: right;\n",
       "    }\n",
       "</style>\n",
       "<table border=\"1\" class=\"dataframe\">\n",
       "  <thead>\n",
       "    <tr style=\"text-align: right;\">\n",
       "      <th></th>\n",
       "      <th>id</th>\n",
       "      <th>rating</th>\n",
       "    </tr>\n",
       "  </thead>\n",
       "  <tbody>\n",
       "    <tr>\n",
       "      <th>0</th>\n",
       "      <td>0</td>\n",
       "      <td>0.513939</td>\n",
       "    </tr>\n",
       "    <tr>\n",
       "      <th>25</th>\n",
       "      <td>1</td>\n",
       "      <td>0.551575</td>\n",
       "    </tr>\n",
       "    <tr>\n",
       "      <th>38</th>\n",
       "      <td>2</td>\n",
       "      <td>0.468621</td>\n",
       "    </tr>\n",
       "    <tr>\n",
       "      <th>77</th>\n",
       "      <td>3</td>\n",
       "      <td>0.077152</td>\n",
       "    </tr>\n",
       "    <tr>\n",
       "      <th>97</th>\n",
       "      <td>4</td>\n",
       "      <td>0.036618</td>\n",
       "    </tr>\n",
       "  </tbody>\n",
       "</table>\n",
       "</div>"
      ],
      "text/plain": [
       "    id    rating\n",
       "0    0  0.513939\n",
       "25   1  0.551575\n",
       "38   2  0.468621\n",
       "77   3  0.077152\n",
       "97   4  0.036618"
      ]
     },
     "execution_count": 33,
     "metadata": {},
     "output_type": "execute_result"
    }
   ],
   "source": [
    "sub = test[['id', 'rating']]\n",
    "sub.head()"
   ]
  },
  {
   "cell_type": "code",
   "execution_count": 35,
   "id": "f34b0f6b",
   "metadata": {},
   "outputs": [
    {
     "data": {
      "text/plain": [
       "(0.20000000298023224, 0.800000011920929)"
      ]
     },
     "execution_count": 35,
     "metadata": {},
     "output_type": "execute_result"
    }
   ],
   "source": [
    "sub.loc[sub.rating < 0.2, 'rating'] = 0.2\n",
    "sub.loc[sub.rating > 0.8, 'rating'] = 0.8\n",
    "sub.rating.min(), sub.rating.max()"
   ]
  },
  {
   "cell_type": "code",
   "execution_count": 36,
   "id": "05b43cec",
   "metadata": {},
   "outputs": [],
   "source": [
    "sub.to_csv('submission_40.csv', index=False)"
   ]
  },
  {
   "cell_type": "code",
   "execution_count": null,
   "id": "7646c987",
   "metadata": {},
   "outputs": [],
   "source": []
  },
  {
   "cell_type": "code",
   "execution_count": null,
   "id": "92abad27",
   "metadata": {},
   "outputs": [],
   "source": []
  }
 ],
 "metadata": {
  "hide_input": false,
  "kernelspec": {
   "display_name": "Python 3 (ipykernel)",
   "language": "python",
   "name": "python3"
  },
  "language_info": {
   "codemirror_mode": {
    "name": "ipython",
    "version": 3
   },
   "file_extension": ".py",
   "mimetype": "text/x-python",
   "name": "python",
   "nbconvert_exporter": "python",
   "pygments_lexer": "ipython3",
   "version": "3.8.11"
  }
 },
 "nbformat": 4,
 "nbformat_minor": 5
}
