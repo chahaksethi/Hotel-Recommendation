{
 "cells": [
  {
   "cell_type": "code",
   "execution_count": 1,
   "id": "68e7e25f",
   "metadata": {},
   "outputs": [],
   "source": [
    "# import pytorch libraries\n",
    "%matplotlib inline\n",
    "import torch \n",
    "import torch.autograd as autograd \n",
    "import torch.nn as nn \n",
    "import torch.nn.functional as F\n",
    "import torch.optim as optim\n",
    "import numpy as np\n",
    "import pandas as pd\n",
    "import random\n",
    "import scipy\n",
    "from scipy import sparse \n",
    "import itertools\n",
    "from sklearn.metrics import accuracy_score\n",
    "from collections import defaultdict, Counter\n",
    "import pickle\n",
    "from sklearn.model_selection import train_test_split"
   ]
  },
  {
   "cell_type": "code",
   "execution_count": 2,
   "id": "639a5741",
   "metadata": {},
   "outputs": [
    {
     "data": {
      "text/html": [
       "<div>\n",
       "<style scoped>\n",
       "    .dataframe tbody tr th:only-of-type {\n",
       "        vertical-align: middle;\n",
       "    }\n",
       "\n",
       "    .dataframe tbody tr th {\n",
       "        vertical-align: top;\n",
       "    }\n",
       "\n",
       "    .dataframe thead th {\n",
       "        text-align: right;\n",
       "    }\n",
       "</style>\n",
       "<table border=\"1\" class=\"dataframe\">\n",
       "  <thead>\n",
       "    <tr style=\"text-align: right;\">\n",
       "      <th></th>\n",
       "      <th>user_id</th>\n",
       "      <th>item_id</th>\n",
       "      <th>context_feature_id</th>\n",
       "      <th>rating</th>\n",
       "    </tr>\n",
       "  </thead>\n",
       "  <tbody>\n",
       "    <tr>\n",
       "      <th>0</th>\n",
       "      <td>0</td>\n",
       "      <td>28366</td>\n",
       "      <td>2</td>\n",
       "      <td>1</td>\n",
       "    </tr>\n",
       "    <tr>\n",
       "      <th>1</th>\n",
       "      <td>0</td>\n",
       "      <td>16109</td>\n",
       "      <td>2</td>\n",
       "      <td>1</td>\n",
       "    </tr>\n",
       "  </tbody>\n",
       "</table>\n",
       "</div>"
      ],
      "text/plain": [
       "   user_id  item_id  context_feature_id  rating\n",
       "0        0    28366                   2       1\n",
       "1        0    16109                   2       1"
      ]
     },
     "execution_count": 2,
     "metadata": {},
     "output_type": "execute_result"
    }
   ],
   "source": [
    "ratings_df = pd.read_csv('training.csv')\n",
    "ratings_df['rating'] = 1\n",
    "ratings_df.head(2)"
   ]
  },
  {
   "cell_type": "code",
   "execution_count": 3,
   "id": "a4433b4b",
   "metadata": {},
   "outputs": [
    {
     "data": {
      "text/plain": [
       "(169698, 37978)"
      ]
     },
     "execution_count": 3,
     "metadata": {},
     "output_type": "execute_result"
    }
   ],
   "source": [
    "ratings_df.user_id.nunique(), ratings_df.item_id.nunique()"
   ]
  },
  {
   "cell_type": "code",
   "execution_count": 4,
   "id": "b90099b1",
   "metadata": {},
   "outputs": [
    {
     "data": {
      "text/html": [
       "<div>\n",
       "<style scoped>\n",
       "    .dataframe tbody tr th:only-of-type {\n",
       "        vertical-align: middle;\n",
       "    }\n",
       "\n",
       "    .dataframe tbody tr th {\n",
       "        vertical-align: top;\n",
       "    }\n",
       "\n",
       "    .dataframe thead th {\n",
       "        text-align: right;\n",
       "    }\n",
       "</style>\n",
       "<table border=\"1\" class=\"dataframe\">\n",
       "  <thead>\n",
       "    <tr style=\"text-align: right;\">\n",
       "      <th></th>\n",
       "      <th>item_id</th>\n",
       "      <th>item_feature_id</th>\n",
       "    </tr>\n",
       "  </thead>\n",
       "  <tbody>\n",
       "    <tr>\n",
       "      <th>0</th>\n",
       "      <td>0</td>\n",
       "      <td>139</td>\n",
       "    </tr>\n",
       "    <tr>\n",
       "      <th>1</th>\n",
       "      <td>1</td>\n",
       "      <td>55</td>\n",
       "    </tr>\n",
       "  </tbody>\n",
       "</table>\n",
       "</div>"
      ],
      "text/plain": [
       "   item_id  item_feature_id\n",
       "0        0              139\n",
       "1        1               55"
      ]
     },
     "execution_count": 4,
     "metadata": {},
     "output_type": "execute_result"
    }
   ],
   "source": [
    "item_df = pd.read_csv('item_feature.csv')\n",
    "item_df.head(2)"
   ]
  },
  {
   "cell_type": "markdown",
   "id": "81e5f0ec",
   "metadata": {},
   "source": [
    "### Negative Sampling"
   ]
  },
  {
   "cell_type": "code",
   "execution_count": 5,
   "id": "0f2e5805",
   "metadata": {},
   "outputs": [],
   "source": [
    "# key = user_id; value = set(item1, item2,.....) which the user has interaction with\n",
    "positive_user_dic = defaultdict(set)\n",
    "present_tuple_list = [tuple(x) for x in ratings_df[['user_id', 'item_id']].to_numpy()]\n",
    "for key, val in present_tuple_list:\n",
    "    positive_user_dic[key].add(val)\n",
    "\n",
    "# all items set\n",
    "all_items_set = set(ratings_df.item_id)\n",
    "\n",
    "# finding most common k items\n",
    "most_common_item_set = set([x[0] for x in Counter(ratings_df.item_id).most_common(100)])\n",
    "\n",
    "# uncommon item set\n",
    "uncommon_item_set = all_items_set - most_common_item_set\n",
    "\n",
    "# key = user_id, val = num occurences in training data\n",
    "freq_users_dic = Counter(ratings_df.user_id)"
   ]
  },
  {
   "cell_type": "code",
   "execution_count": 6,
   "id": "8e54e2a9",
   "metadata": {
    "scrolled": true
   },
   "outputs": [],
   "source": [
    "#creating negative users and saving as a pickle file\n",
    "\n",
    "# negative_user_dic = {}\n",
    "# for ix, user in enumerate(positive_user_dic):\n",
    "#     if ix % 10000 == 0 : print(f'Processed for {ix} users')\n",
    "#     neg_items = np.random.choice(list(uncommon_item_set - positive_user_dic[user]), size=freq_users_dic[user] * 4)\n",
    "#     negative_user_dic[user] = neg_items\n",
    "    \n",
    "# with open('negative_user_dic.pkl', 'wb') as handle:\n",
    "#     pickle.dump(negative_user_dic, handle)\n",
    "    \n",
    "with open('negative_user_dic_v2.pkl', 'rb') as handle:\n",
    "    negative_user_dic = pickle.load(handle)"
   ]
  },
  {
   "cell_type": "code",
   "execution_count": 7,
   "id": "4d84181d",
   "metadata": {},
   "outputs": [],
   "source": [
    "negative_record_list = []\n",
    "for user in negative_user_dic:\n",
    "    for item in negative_user_dic[user]:\n",
    "        record = {}\n",
    "        record['user_id'] = user\n",
    "        record['item_id'] = item\n",
    "        record['rating'] = 0\n",
    "        negative_record_list.append(record)\n",
    "negative_df = pd.DataFrame(negative_record_list)"
   ]
  },
  {
   "cell_type": "code",
   "execution_count": 8,
   "id": "3a90db48",
   "metadata": {},
   "outputs": [],
   "source": [
    "df_final = ratings_df[['user_id', 'item_id', 'rating']].append(negative_df)\n",
    "num_users = df_final.user_id.max()\n",
    "num_items = df_final.item_id.max()\n",
    "num_item_features = item_df.item_feature_id.nunique()"
   ]
  },
  {
   "cell_type": "code",
   "execution_count": 9,
   "id": "91d6fe6c",
   "metadata": {},
   "outputs": [
    {
     "data": {
      "text/plain": [
       "(4851225, 3)"
      ]
     },
     "execution_count": 9,
     "metadata": {},
     "output_type": "execute_result"
    }
   ],
   "source": [
    "df_final.shape"
   ]
  },
  {
   "cell_type": "code",
   "execution_count": 10,
   "id": "a77edd7a",
   "metadata": {},
   "outputs": [
    {
     "data": {
      "text/plain": [
       "(4851225, 4)"
      ]
     },
     "execution_count": 10,
     "metadata": {},
     "output_type": "execute_result"
    }
   ],
   "source": [
    "df_final = df_final.merge(item_df, on='item_id')\n",
    "df_final.shape"
   ]
  },
  {
   "cell_type": "code",
   "execution_count": 11,
   "id": "da7a3a2a",
   "metadata": {},
   "outputs": [
    {
     "data": {
      "text/html": [
       "<div>\n",
       "<style scoped>\n",
       "    .dataframe tbody tr th:only-of-type {\n",
       "        vertical-align: middle;\n",
       "    }\n",
       "\n",
       "    .dataframe tbody tr th {\n",
       "        vertical-align: top;\n",
       "    }\n",
       "\n",
       "    .dataframe thead th {\n",
       "        text-align: right;\n",
       "    }\n",
       "</style>\n",
       "<table border=\"1\" class=\"dataframe\">\n",
       "  <thead>\n",
       "    <tr style=\"text-align: right;\">\n",
       "      <th></th>\n",
       "      <th>user_id</th>\n",
       "      <th>item_id</th>\n",
       "      <th>rating</th>\n",
       "      <th>item_feature_id</th>\n",
       "    </tr>\n",
       "  </thead>\n",
       "  <tbody>\n",
       "    <tr>\n",
       "      <th>0</th>\n",
       "      <td>0</td>\n",
       "      <td>28366</td>\n",
       "      <td>1</td>\n",
       "      <td>7</td>\n",
       "    </tr>\n",
       "    <tr>\n",
       "      <th>1</th>\n",
       "      <td>1731</td>\n",
       "      <td>28366</td>\n",
       "      <td>1</td>\n",
       "      <td>7</td>\n",
       "    </tr>\n",
       "    <tr>\n",
       "      <th>2</th>\n",
       "      <td>10168</td>\n",
       "      <td>28366</td>\n",
       "      <td>1</td>\n",
       "      <td>7</td>\n",
       "    </tr>\n",
       "    <tr>\n",
       "      <th>3</th>\n",
       "      <td>18883</td>\n",
       "      <td>28366</td>\n",
       "      <td>1</td>\n",
       "      <td>7</td>\n",
       "    </tr>\n",
       "    <tr>\n",
       "      <th>4</th>\n",
       "      <td>19763</td>\n",
       "      <td>28366</td>\n",
       "      <td>1</td>\n",
       "      <td>7</td>\n",
       "    </tr>\n",
       "  </tbody>\n",
       "</table>\n",
       "</div>"
      ],
      "text/plain": [
       "   user_id  item_id  rating  item_feature_id\n",
       "0        0    28366       1                7\n",
       "1     1731    28366       1                7\n",
       "2    10168    28366       1                7\n",
       "3    18883    28366       1                7\n",
       "4    19763    28366       1                7"
      ]
     },
     "execution_count": 11,
     "metadata": {},
     "output_type": "execute_result"
    }
   ],
   "source": [
    "df_final.head()"
   ]
  },
  {
   "cell_type": "markdown",
   "id": "603e8e8b",
   "metadata": {},
   "source": [
    "### Splitting and Encoding data"
   ]
  },
  {
   "cell_type": "code",
   "execution_count": 12,
   "id": "884a1bac",
   "metadata": {},
   "outputs": [],
   "source": [
    "train, valid = train_test_split(df_final, test_size=0.2, shuffle=True, stratify=df_final['rating'])"
   ]
  },
  {
   "cell_type": "code",
   "execution_count": 13,
   "id": "6e3842d7",
   "metadata": {
    "scrolled": true
   },
   "outputs": [
    {
     "name": "stdout",
     "output_type": "stream",
     "text": [
      "(3880980, 4) (970245, 4)\n"
     ]
    }
   ],
   "source": [
    "print(train.shape, valid.shape)"
   ]
  },
  {
   "cell_type": "code",
   "execution_count": 14,
   "id": "8c413262",
   "metadata": {},
   "outputs": [
    {
     "data": {
      "text/plain": [
       "(169698, 168305)"
      ]
     },
     "execution_count": 14,
     "metadata": {},
     "output_type": "execute_result"
    }
   ],
   "source": [
    "train.user_id.nunique(), valid.user_id.nunique()"
   ]
  },
  {
   "cell_type": "code",
   "execution_count": 15,
   "id": "711431f9",
   "metadata": {},
   "outputs": [
    {
     "data": {
      "text/plain": [
       "168305"
      ]
     },
     "execution_count": 15,
     "metadata": {},
     "output_type": "execute_result"
    }
   ],
   "source": [
    "len(set(train.user_id.unique()) & set(valid.user_id.unique()))"
   ]
  },
  {
   "cell_type": "markdown",
   "id": "c0c47936",
   "metadata": {},
   "source": [
    "### Training MF model"
   ]
  },
  {
   "cell_type": "code",
   "execution_count": 16,
   "id": "1a84fe69",
   "metadata": {},
   "outputs": [],
   "source": [
    "class MF(nn.Module):\n",
    "    def __init__(self, num_users, num_items, num_item_feature, emb_size=100, seed=23):\n",
    "        super(MF, self).__init__()\n",
    "        torch.manual_seed(seed)\n",
    "        self.user_emb = nn.Embedding(num_users, emb_size)\n",
    "        self.user_bias = nn.Embedding(num_users, 1)\n",
    "        \n",
    "        self.item_emb = nn.Embedding(num_items, emb_size)\n",
    "        self.item_bias = nn.Embedding(num_items, 1)\n",
    "        \n",
    "        self.item_feature_emb = nn.Embedding(num_item_feature, emb_size)\n",
    "        self.item_feature_bias = nn.Embedding(num_item_feature, 1)\n",
    "        \n",
    "        # init \n",
    "        self.user_emb.weight.data.uniform_(0,0.05)\n",
    "        self.item_emb.weight.data.uniform_(0,0.05)\n",
    "        self.item_feature_emb.weight.data.uniform_(0,0.05)\n",
    "        \n",
    "        self.user_bias.weight.data.uniform_(-0.01,0.01)\n",
    "        self.item_bias.weight.data.uniform_(-0.01,0.01)\n",
    "        self.item_feature_bias.weight.data.uniform_(-0.01,0.01)\n",
    "        \n",
    "\n",
    "    def forward(self, u, v, ife):\n",
    "        ### BEGIN SOLUTION\n",
    "        U = self.user_emb(u)\n",
    "        V = self.item_emb(v)\n",
    "        IFE = self.item_feature_emb(ife)\n",
    "        \n",
    "        b_u = self.user_bias(u).squeeze(1)\n",
    "        b_v = self.item_bias(v).squeeze(1)\n",
    "        b_ife = self.item_feature_bias(ife).squeeze(1)\n",
    "        \n",
    "        return torch.sigmoid(((U*V).sum(1) +  b_u  + b_v + (U*IFE).sum(1) + b_ife))\n",
    "    \n",
    "def train_one_epoch(model, train_df, optimizer):\n",
    "    \"\"\" Trains the model for one epoch\"\"\"\n",
    "    model.train()\n",
    "    users = torch.LongTensor(train_df.user_id.values)  \n",
    "    items = torch.LongTensor(train_df.item_id.values) \n",
    "    item_features = torch.LongTensor(train_df.item_feature_id.values)\n",
    "    ratings = torch.FloatTensor(train_df.rating.values) \n",
    "    y_hat = model(users, items, item_features)\n",
    "    train_loss = F.binary_cross_entropy(y_hat, ratings)\n",
    "    optimizer.zero_grad()\n",
    "    train_loss.backward()\n",
    "    optimizer.step()\n",
    "    return train_loss.detach()\n",
    "\n",
    "def valid_metrics(model, valid_df):\n",
    "    \"\"\"Computes validation loss and accuracy\"\"\"\n",
    "    model.eval()\n",
    "    ### BEGIN SOLUTION\n",
    "    users = torch.LongTensor(valid_df.user_id.values) # .cuda()\n",
    "    items = torch.LongTensor(valid_df.item_id.values) #.cuda()\n",
    "    item_features = torch.LongTensor(valid_df.item_feature_id.values)\n",
    "    ratings = torch.FloatTensor(valid_df.rating.values) #.cuda()\n",
    "    y_hat = model(users, items, item_features)\n",
    "    valid_loss = F.binary_cross_entropy(y_hat, ratings)\n",
    "    valid_acc = sum(np.where(y_hat < 0.5, 0, 1) == ratings.numpy()) / len(ratings.numpy())\n",
    "    ### END SOLUTION\n",
    "    return valid_loss.detach(), valid_acc\n",
    "\n",
    "\n",
    "def training(model, train_df, valid_df, epochs=10, lr=0.01, wd=0.0):\n",
    "    optimizer = torch.optim.Adam(model.parameters(), lr=lr, weight_decay=wd)\n",
    "    for i in range(epochs):\n",
    "        train_loss = train_one_epoch(model, train_df, optimizer)\n",
    "        valid_loss, valid_acc = valid_metrics(model, valid_df) \n",
    "        print(f\" epoch {i+1}: train loss %.3f valid loss %.3f valid acc %.3f\" % (train_loss, valid_loss, valid_acc)) "
   ]
  },
  {
   "cell_type": "code",
   "execution_count": 17,
   "id": "fc578d82",
   "metadata": {},
   "outputs": [
    {
     "data": {
      "text/plain": [
       "[20, 30, 40, 50, 60, 70]"
      ]
     },
     "execution_count": 17,
     "metadata": {},
     "output_type": "execute_result"
    }
   ],
   "source": [
    "[i for i in range(20, 80, 10)]"
   ]
  },
  {
   "cell_type": "code",
   "execution_count": 18,
   "id": "92bf6447",
   "metadata": {
    "scrolled": true
   },
   "outputs": [
    {
     "name": "stdout",
     "output_type": "stream",
     "text": [
      "20\n",
      " epoch 1: train loss 0.701 valid loss 0.671 valid acc 0.801\n",
      " epoch 2: train loss 0.671 valid loss 0.535 valid acc 0.819\n",
      " epoch 3: train loss 0.534 valid loss 0.480 valid acc 0.819\n",
      " epoch 4: train loss 0.478 valid loss 0.456 valid acc 0.819\n",
      " epoch 5: train loss 0.451 valid loss 0.424 valid acc 0.825\n",
      " epoch 6: train loss 0.417 valid loss 0.394 valid acc 0.826\n",
      " epoch 7: train loss 0.385 valid loss 0.375 valid acc 0.828\n",
      " epoch 8: train loss 0.365 valid loss 0.365 valid acc 0.828\n",
      " epoch 9: train loss 0.354 valid loss 0.358 valid acc 0.831\n",
      " epoch 10: train loss 0.345 valid loss 0.347 valid acc 0.847\n",
      " epoch 11: train loss 0.334 valid loss 0.334 valid acc 0.881\n",
      " epoch 12: train loss 0.321 valid loss 0.321 valid acc 0.902\n",
      " epoch 13: train loss 0.308 valid loss 0.310 valid acc 0.909\n",
      " epoch 14: train loss 0.298 valid loss 0.302 valid acc 0.912\n",
      " epoch 15: train loss 0.290 valid loss 0.295 valid acc 0.914\n",
      "30\n",
      " epoch 1: train loss 0.704 valid loss 0.710 valid acc 0.306\n",
      " epoch 2: train loss 0.710 valid loss 0.537 valid acc 0.819\n",
      " epoch 3: train loss 0.536 valid loss 0.482 valid acc 0.819\n",
      " epoch 4: train loss 0.480 valid loss 0.464 valid acc 0.819\n",
      " epoch 5: train loss 0.459 valid loss 0.430 valid acc 0.825\n",
      " epoch 6: train loss 0.423 valid loss 0.394 valid acc 0.828\n",
      " epoch 7: train loss 0.386 valid loss 0.374 valid acc 0.828\n",
      " epoch 8: train loss 0.364 valid loss 0.366 valid acc 0.828\n",
      " epoch 9: train loss 0.355 valid loss 0.361 valid acc 0.828\n",
      " epoch 10: train loss 0.348 valid loss 0.350 valid acc 0.837\n",
      " epoch 11: train loss 0.337 valid loss 0.335 valid acc 0.873\n",
      " epoch 12: train loss 0.321 valid loss 0.320 valid acc 0.900\n",
      " epoch 13: train loss 0.306 valid loss 0.309 valid acc 0.910\n",
      " epoch 14: train loss 0.295 valid loss 0.301 valid acc 0.912\n",
      " epoch 15: train loss 0.287 valid loss 0.294 valid acc 0.913\n",
      "40\n",
      " epoch 1: train loss 0.709 valid loss 0.751 valid acc 0.103\n",
      " epoch 2: train loss 0.752 valid loss 0.540 valid acc 0.819\n",
      " epoch 3: train loss 0.539 valid loss 0.485 valid acc 0.819\n",
      " epoch 4: train loss 0.483 valid loss 0.475 valid acc 0.819\n",
      " epoch 5: train loss 0.471 valid loss 0.437 valid acc 0.826\n",
      " epoch 6: train loss 0.430 valid loss 0.396 valid acc 0.828\n",
      " epoch 7: train loss 0.387 valid loss 0.374 valid acc 0.828\n",
      " epoch 8: train loss 0.363 valid loss 0.367 valid acc 0.827\n",
      " epoch 9: train loss 0.356 valid loss 0.364 valid acc 0.828\n",
      " epoch 10: train loss 0.350 valid loss 0.354 valid acc 0.833\n",
      " epoch 11: train loss 0.339 valid loss 0.337 valid acc 0.865\n",
      " epoch 12: train loss 0.322 valid loss 0.320 valid acc 0.899\n",
      " epoch 13: train loss 0.306 valid loss 0.308 valid acc 0.910\n",
      " epoch 14: train loss 0.293 valid loss 0.300 valid acc 0.912\n",
      " epoch 15: train loss 0.286 valid loss 0.294 valid acc 0.913\n",
      "50\n",
      " epoch 1: train loss 0.712 valid loss 0.795 valid acc 0.103\n",
      " epoch 2: train loss 0.796 valid loss 0.542 valid acc 0.819\n",
      " epoch 3: train loss 0.541 valid loss 0.488 valid acc 0.819\n",
      " epoch 4: train loss 0.486 valid loss 0.487 valid acc 0.819\n",
      " epoch 5: train loss 0.482 valid loss 0.445 valid acc 0.826\n",
      " epoch 6: train loss 0.438 valid loss 0.397 valid acc 0.829\n",
      " epoch 7: train loss 0.388 valid loss 0.373 valid acc 0.828\n",
      " epoch 8: train loss 0.363 valid loss 0.369 valid acc 0.827\n",
      " epoch 9: train loss 0.357 valid loss 0.367 valid acc 0.827\n",
      " epoch 10: train loss 0.353 valid loss 0.357 valid acc 0.830\n",
      " epoch 11: train loss 0.342 valid loss 0.339 valid acc 0.859\n",
      " epoch 12: train loss 0.324 valid loss 0.320 valid acc 0.897\n",
      " epoch 13: train loss 0.305 valid loss 0.306 valid acc 0.910\n",
      " epoch 14: train loss 0.292 valid loss 0.298 valid acc 0.912\n",
      " epoch 15: train loss 0.284 valid loss 0.293 valid acc 0.913\n",
      "60\n",
      " epoch 1: train loss 0.716 valid loss 0.839 valid acc 0.103\n",
      " epoch 2: train loss 0.840 valid loss 0.543 valid acc 0.819\n",
      " epoch 3: train loss 0.542 valid loss 0.492 valid acc 0.819\n",
      " epoch 4: train loss 0.489 valid loss 0.500 valid acc 0.820\n",
      " epoch 5: train loss 0.496 valid loss 0.454 valid acc 0.828\n",
      " epoch 6: train loss 0.448 valid loss 0.398 valid acc 0.830\n",
      " epoch 7: train loss 0.390 valid loss 0.373 valid acc 0.827\n",
      " epoch 8: train loss 0.363 valid loss 0.370 valid acc 0.826\n",
      " epoch 9: train loss 0.358 valid loss 0.371 valid acc 0.826\n",
      " epoch 10: train loss 0.357 valid loss 0.360 valid acc 0.829\n",
      " epoch 11: train loss 0.345 valid loss 0.340 valid acc 0.852\n",
      " epoch 12: train loss 0.325 valid loss 0.320 valid acc 0.895\n",
      " epoch 13: train loss 0.305 valid loss 0.306 valid acc 0.909\n",
      " epoch 14: train loss 0.291 valid loss 0.298 valid acc 0.912\n",
      " epoch 15: train loss 0.283 valid loss 0.293 valid acc 0.913\n",
      "70\n",
      " epoch 1: train loss 0.721 valid loss 0.889 valid acc 0.103\n",
      " epoch 2: train loss 0.890 valid loss 0.545 valid acc 0.819\n",
      " epoch 3: train loss 0.545 valid loss 0.496 valid acc 0.819\n",
      " epoch 4: train loss 0.494 valid loss 0.515 valid acc 0.820\n",
      " epoch 5: train loss 0.510 valid loss 0.464 valid acc 0.832\n",
      " epoch 6: train loss 0.457 valid loss 0.399 valid acc 0.832\n",
      " epoch 7: train loss 0.391 valid loss 0.372 valid acc 0.827\n",
      " epoch 8: train loss 0.362 valid loss 0.372 valid acc 0.824\n",
      " epoch 9: train loss 0.360 valid loss 0.375 valid acc 0.824\n",
      " epoch 10: train loss 0.361 valid loss 0.365 valid acc 0.828\n",
      " epoch 11: train loss 0.350 valid loss 0.343 valid acc 0.848\n",
      " epoch 12: train loss 0.328 valid loss 0.321 valid acc 0.892\n",
      " epoch 13: train loss 0.306 valid loss 0.305 valid acc 0.908\n",
      " epoch 14: train loss 0.290 valid loss 0.296 valid acc 0.912\n",
      " epoch 15: train loss 0.281 valid loss 0.291 valid acc 0.913\n",
      "80\n",
      " epoch 1: train loss 0.725 valid loss 0.938 valid acc 0.103\n",
      " epoch 2: train loss 0.939 valid loss 0.547 valid acc 0.818\n",
      " epoch 3: train loss 0.546 valid loss 0.500 valid acc 0.818\n",
      " epoch 4: train loss 0.498 valid loss 0.531 valid acc 0.821\n",
      " epoch 5: train loss 0.527 valid loss 0.474 valid acc 0.839\n",
      " epoch 6: train loss 0.468 valid loss 0.401 valid acc 0.833\n",
      " epoch 7: train loss 0.393 valid loss 0.372 valid acc 0.827\n",
      " epoch 8: train loss 0.362 valid loss 0.373 valid acc 0.822\n",
      " epoch 9: train loss 0.361 valid loss 0.378 valid acc 0.822\n",
      " epoch 10: train loss 0.363 valid loss 0.368 valid acc 0.827\n",
      " epoch 11: train loss 0.352 valid loss 0.345 valid acc 0.845\n",
      " epoch 12: train loss 0.329 valid loss 0.321 valid acc 0.891\n",
      " epoch 13: train loss 0.306 valid loss 0.304 valid acc 0.908\n",
      " epoch 14: train loss 0.289 valid loss 0.295 valid acc 0.912\n",
      " epoch 15: train loss 0.280 valid loss 0.290 valid acc 0.914\n"
     ]
    }
   ],
   "source": [
    "# model = MF(num_users, num_items, emb_size=50)\n",
    "# training(model, df_train, df_val, epochs = 10, lr=0.05)\n",
    "model_dic = {}\n",
    "size_range = [i for i in range(20, 81, 10)]\n",
    "for size in size_range:\n",
    "    print(size)\n",
    "    model = MF(num_users + 1, num_items + 1, num_item_features, emb_size=size)\n",
    "    model_dic[size] = model\n",
    "    training(model, train, valid, epochs = 15, lr=0.1, wd=5e-6)"
   ]
  },
  {
   "cell_type": "markdown",
   "id": "9b69146f",
   "metadata": {},
   "source": [
    "### Test predictions"
   ]
  },
  {
   "cell_type": "code",
   "execution_count": 19,
   "id": "fbf2fe1a",
   "metadata": {},
   "outputs": [
    {
     "data": {
      "text/html": [
       "<div>\n",
       "<style scoped>\n",
       "    .dataframe tbody tr th:only-of-type {\n",
       "        vertical-align: middle;\n",
       "    }\n",
       "\n",
       "    .dataframe tbody tr th {\n",
       "        vertical-align: top;\n",
       "    }\n",
       "\n",
       "    .dataframe thead th {\n",
       "        text-align: right;\n",
       "    }\n",
       "</style>\n",
       "<table border=\"1\" class=\"dataframe\">\n",
       "  <thead>\n",
       "    <tr style=\"text-align: right;\">\n",
       "      <th></th>\n",
       "      <th>id</th>\n",
       "      <th>user_id</th>\n",
       "      <th>item_id</th>\n",
       "      <th>context_feature_id</th>\n",
       "      <th>item_feature_id</th>\n",
       "    </tr>\n",
       "  </thead>\n",
       "  <tbody>\n",
       "    <tr>\n",
       "      <th>0</th>\n",
       "      <td>0</td>\n",
       "      <td>4</td>\n",
       "      <td>16835</td>\n",
       "      <td>2</td>\n",
       "      <td>142</td>\n",
       "    </tr>\n",
       "    <tr>\n",
       "      <th>1</th>\n",
       "      <td>434</td>\n",
       "      <td>188</td>\n",
       "      <td>16835</td>\n",
       "      <td>1</td>\n",
       "      <td>142</td>\n",
       "    </tr>\n",
       "    <tr>\n",
       "      <th>2</th>\n",
       "      <td>48540</td>\n",
       "      <td>25437</td>\n",
       "      <td>16835</td>\n",
       "      <td>1</td>\n",
       "      <td>142</td>\n",
       "    </tr>\n",
       "    <tr>\n",
       "      <th>3</th>\n",
       "      <td>51161</td>\n",
       "      <td>26834</td>\n",
       "      <td>16835</td>\n",
       "      <td>0</td>\n",
       "      <td>142</td>\n",
       "    </tr>\n",
       "    <tr>\n",
       "      <th>4</th>\n",
       "      <td>73056</td>\n",
       "      <td>38465</td>\n",
       "      <td>16835</td>\n",
       "      <td>2</td>\n",
       "      <td>142</td>\n",
       "    </tr>\n",
       "  </tbody>\n",
       "</table>\n",
       "</div>"
      ],
      "text/plain": [
       "      id  user_id  item_id  context_feature_id  item_feature_id\n",
       "0      0        4    16835                   2              142\n",
       "1    434      188    16835                   1              142\n",
       "2  48540    25437    16835                   1              142\n",
       "3  51161    26834    16835                   0              142\n",
       "4  73056    38465    16835                   2              142"
      ]
     },
     "execution_count": 19,
     "metadata": {},
     "output_type": "execute_result"
    }
   ],
   "source": [
    "test = pd.read_csv('test_kaggle.csv')\n",
    "test = test.merge(item_df, on='item_id')\n",
    "test.head()"
   ]
  },
  {
   "cell_type": "code",
   "execution_count": 20,
   "id": "2bce8aae",
   "metadata": {
    "scrolled": true
   },
   "outputs": [],
   "source": [
    "users = torch.LongTensor(test.user_id.values) # .cuda()\n",
    "items = torch.LongTensor(test.item_id.values)\n",
    "item_features = torch.LongTensor(test.item_feature_id.values)\n",
    "for size in size_range:\n",
    "    col_name = 'size_' + str(size)\n",
    "    y_hat = model_dic[size](users, items, item_features)\n",
    "    test[col_name] = y_hat.detach().numpy()"
   ]
  },
  {
   "cell_type": "code",
   "execution_count": 21,
   "id": "124c06c7",
   "metadata": {},
   "outputs": [
    {
     "data": {
      "text/html": [
       "<div>\n",
       "<style scoped>\n",
       "    .dataframe tbody tr th:only-of-type {\n",
       "        vertical-align: middle;\n",
       "    }\n",
       "\n",
       "    .dataframe tbody tr th {\n",
       "        vertical-align: top;\n",
       "    }\n",
       "\n",
       "    .dataframe thead th {\n",
       "        text-align: right;\n",
       "    }\n",
       "</style>\n",
       "<table border=\"1\" class=\"dataframe\">\n",
       "  <thead>\n",
       "    <tr style=\"text-align: right;\">\n",
       "      <th></th>\n",
       "      <th>id</th>\n",
       "      <th>size_20</th>\n",
       "      <th>size_30</th>\n",
       "      <th>size_40</th>\n",
       "      <th>size_50</th>\n",
       "      <th>size_60</th>\n",
       "      <th>size_70</th>\n",
       "      <th>size_80</th>\n",
       "    </tr>\n",
       "  </thead>\n",
       "  <tbody>\n",
       "    <tr>\n",
       "      <th>0</th>\n",
       "      <td>0</td>\n",
       "      <td>0.410514</td>\n",
       "      <td>0.414741</td>\n",
       "      <td>0.399068</td>\n",
       "      <td>0.390950</td>\n",
       "      <td>0.386666</td>\n",
       "      <td>0.369815</td>\n",
       "      <td>0.354124</td>\n",
       "    </tr>\n",
       "    <tr>\n",
       "      <th>1</th>\n",
       "      <td>1</td>\n",
       "      <td>0.151633</td>\n",
       "      <td>0.154151</td>\n",
       "      <td>0.148981</td>\n",
       "      <td>0.148355</td>\n",
       "      <td>0.151373</td>\n",
       "      <td>0.146386</td>\n",
       "      <td>0.144680</td>\n",
       "    </tr>\n",
       "    <tr>\n",
       "      <th>2</th>\n",
       "      <td>2</td>\n",
       "      <td>0.641308</td>\n",
       "      <td>0.654169</td>\n",
       "      <td>0.640107</td>\n",
       "      <td>0.644212</td>\n",
       "      <td>0.648831</td>\n",
       "      <td>0.642795</td>\n",
       "      <td>0.639298</td>\n",
       "    </tr>\n",
       "    <tr>\n",
       "      <th>3</th>\n",
       "      <td>3</td>\n",
       "      <td>0.125076</td>\n",
       "      <td>0.121813</td>\n",
       "      <td>0.120345</td>\n",
       "      <td>0.119166</td>\n",
       "      <td>0.120720</td>\n",
       "      <td>0.118607</td>\n",
       "      <td>0.118974</td>\n",
       "    </tr>\n",
       "    <tr>\n",
       "      <th>4</th>\n",
       "      <td>4</td>\n",
       "      <td>0.124948</td>\n",
       "      <td>0.123047</td>\n",
       "      <td>0.121355</td>\n",
       "      <td>0.121424</td>\n",
       "      <td>0.122496</td>\n",
       "      <td>0.120587</td>\n",
       "      <td>0.120325</td>\n",
       "    </tr>\n",
       "  </tbody>\n",
       "</table>\n",
       "</div>"
      ],
      "text/plain": [
       "   id   size_20   size_30   size_40   size_50   size_60   size_70   size_80\n",
       "0   0  0.410514  0.414741  0.399068  0.390950  0.386666  0.369815  0.354124\n",
       "1   1  0.151633  0.154151  0.148981  0.148355  0.151373  0.146386  0.144680\n",
       "2   2  0.641308  0.654169  0.640107  0.644212  0.648831  0.642795  0.639298\n",
       "3   3  0.125076  0.121813  0.120345  0.119166  0.120720  0.118607  0.118974\n",
       "4   4  0.124948  0.123047  0.121355  0.121424  0.122496  0.120587  0.120325"
      ]
     },
     "execution_count": 21,
     "metadata": {},
     "output_type": "execute_result"
    }
   ],
   "source": [
    "test = test[['id'] + [col for col in test.columns if 'size' in col]]\n",
    "test = test.sort_values('id').reset_index(drop=True)\n",
    "test.head()"
   ]
  },
  {
   "cell_type": "code",
   "execution_count": 22,
   "id": "ed5f50bc",
   "metadata": {},
   "outputs": [
    {
     "data": {
      "text/html": [
       "<div>\n",
       "<style scoped>\n",
       "    .dataframe tbody tr th:only-of-type {\n",
       "        vertical-align: middle;\n",
       "    }\n",
       "\n",
       "    .dataframe tbody tr th {\n",
       "        vertical-align: top;\n",
       "    }\n",
       "\n",
       "    .dataframe thead th {\n",
       "        text-align: right;\n",
       "    }\n",
       "</style>\n",
       "<table border=\"1\" class=\"dataframe\">\n",
       "  <thead>\n",
       "    <tr style=\"text-align: right;\">\n",
       "      <th></th>\n",
       "      <th>id</th>\n",
       "      <th>size_20</th>\n",
       "      <th>size_30</th>\n",
       "      <th>size_40</th>\n",
       "      <th>size_50</th>\n",
       "      <th>size_60</th>\n",
       "      <th>size_70</th>\n",
       "      <th>size_80</th>\n",
       "      <th>rating</th>\n",
       "    </tr>\n",
       "  </thead>\n",
       "  <tbody>\n",
       "    <tr>\n",
       "      <th>0</th>\n",
       "      <td>0</td>\n",
       "      <td>0.410514</td>\n",
       "      <td>0.414741</td>\n",
       "      <td>0.399068</td>\n",
       "      <td>0.390950</td>\n",
       "      <td>0.386666</td>\n",
       "      <td>0.369815</td>\n",
       "      <td>0.354124</td>\n",
       "      <td>0.389411</td>\n",
       "    </tr>\n",
       "    <tr>\n",
       "      <th>1</th>\n",
       "      <td>1</td>\n",
       "      <td>0.151633</td>\n",
       "      <td>0.154151</td>\n",
       "      <td>0.148981</td>\n",
       "      <td>0.148355</td>\n",
       "      <td>0.151373</td>\n",
       "      <td>0.146386</td>\n",
       "      <td>0.144680</td>\n",
       "      <td>0.149365</td>\n",
       "    </tr>\n",
       "    <tr>\n",
       "      <th>2</th>\n",
       "      <td>2</td>\n",
       "      <td>0.641308</td>\n",
       "      <td>0.654169</td>\n",
       "      <td>0.640107</td>\n",
       "      <td>0.644212</td>\n",
       "      <td>0.648831</td>\n",
       "      <td>0.642795</td>\n",
       "      <td>0.639298</td>\n",
       "      <td>0.644389</td>\n",
       "    </tr>\n",
       "    <tr>\n",
       "      <th>3</th>\n",
       "      <td>3</td>\n",
       "      <td>0.125076</td>\n",
       "      <td>0.121813</td>\n",
       "      <td>0.120345</td>\n",
       "      <td>0.119166</td>\n",
       "      <td>0.120720</td>\n",
       "      <td>0.118607</td>\n",
       "      <td>0.118974</td>\n",
       "      <td>0.120672</td>\n",
       "    </tr>\n",
       "    <tr>\n",
       "      <th>4</th>\n",
       "      <td>4</td>\n",
       "      <td>0.124948</td>\n",
       "      <td>0.123047</td>\n",
       "      <td>0.121355</td>\n",
       "      <td>0.121424</td>\n",
       "      <td>0.122496</td>\n",
       "      <td>0.120587</td>\n",
       "      <td>0.120325</td>\n",
       "      <td>0.122026</td>\n",
       "    </tr>\n",
       "  </tbody>\n",
       "</table>\n",
       "</div>"
      ],
      "text/plain": [
       "   id   size_20   size_30   size_40   size_50   size_60   size_70   size_80  \\\n",
       "0   0  0.410514  0.414741  0.399068  0.390950  0.386666  0.369815  0.354124   \n",
       "1   1  0.151633  0.154151  0.148981  0.148355  0.151373  0.146386  0.144680   \n",
       "2   2  0.641308  0.654169  0.640107  0.644212  0.648831  0.642795  0.639298   \n",
       "3   3  0.125076  0.121813  0.120345  0.119166  0.120720  0.118607  0.118974   \n",
       "4   4  0.124948  0.123047  0.121355  0.121424  0.122496  0.120587  0.120325   \n",
       "\n",
       "     rating  \n",
       "0  0.389411  \n",
       "1  0.149365  \n",
       "2  0.644389  \n",
       "3  0.120672  \n",
       "4  0.122026  "
      ]
     },
     "execution_count": 22,
     "metadata": {},
     "output_type": "execute_result"
    }
   ],
   "source": [
    "test['rating'] = test.iloc[:, 1:].mean(axis=1)\n",
    "test.head()"
   ]
  },
  {
   "cell_type": "code",
   "execution_count": 23,
   "id": "1880048c",
   "metadata": {},
   "outputs": [
    {
     "data": {
      "text/html": [
       "<div>\n",
       "<style scoped>\n",
       "    .dataframe tbody tr th:only-of-type {\n",
       "        vertical-align: middle;\n",
       "    }\n",
       "\n",
       "    .dataframe tbody tr th {\n",
       "        vertical-align: top;\n",
       "    }\n",
       "\n",
       "    .dataframe thead th {\n",
       "        text-align: right;\n",
       "    }\n",
       "</style>\n",
       "<table border=\"1\" class=\"dataframe\">\n",
       "  <thead>\n",
       "    <tr style=\"text-align: right;\">\n",
       "      <th></th>\n",
       "      <th>id</th>\n",
       "      <th>rating</th>\n",
       "    </tr>\n",
       "  </thead>\n",
       "  <tbody>\n",
       "    <tr>\n",
       "      <th>0</th>\n",
       "      <td>0</td>\n",
       "      <td>0.389411</td>\n",
       "    </tr>\n",
       "    <tr>\n",
       "      <th>1</th>\n",
       "      <td>1</td>\n",
       "      <td>0.149365</td>\n",
       "    </tr>\n",
       "    <tr>\n",
       "      <th>2</th>\n",
       "      <td>2</td>\n",
       "      <td>0.644389</td>\n",
       "    </tr>\n",
       "    <tr>\n",
       "      <th>3</th>\n",
       "      <td>3</td>\n",
       "      <td>0.120672</td>\n",
       "    </tr>\n",
       "    <tr>\n",
       "      <th>4</th>\n",
       "      <td>4</td>\n",
       "      <td>0.122026</td>\n",
       "    </tr>\n",
       "  </tbody>\n",
       "</table>\n",
       "</div>"
      ],
      "text/plain": [
       "   id    rating\n",
       "0   0  0.389411\n",
       "1   1  0.149365\n",
       "2   2  0.644389\n",
       "3   3  0.120672\n",
       "4   4  0.122026"
      ]
     },
     "execution_count": 23,
     "metadata": {},
     "output_type": "execute_result"
    }
   ],
   "source": [
    "sub = test[['id', 'rating']]\n",
    "# sub.columns = ['id', 'rating']\n",
    "sub.head()"
   ]
  },
  {
   "cell_type": "code",
   "execution_count": 24,
   "id": "05b43cec",
   "metadata": {},
   "outputs": [],
   "source": [
    "sub.to_csv('submission_7.csv', index=False)"
   ]
  },
  {
   "cell_type": "code",
   "execution_count": 25,
   "id": "3c079e52",
   "metadata": {},
   "outputs": [
    {
     "data": {
      "text/plain": [
       "(200152, 39900, 195)"
      ]
     },
     "execution_count": 25,
     "metadata": {},
     "output_type": "execute_result"
    }
   ],
   "source": [
    "num_users, num_items, num_item_features"
   ]
  },
  {
   "cell_type": "code",
   "execution_count": 26,
   "id": "d769f1e5",
   "metadata": {},
   "outputs": [
    {
     "data": {
      "text/html": [
       "<div>\n",
       "<style scoped>\n",
       "    .dataframe tbody tr th:only-of-type {\n",
       "        vertical-align: middle;\n",
       "    }\n",
       "\n",
       "    .dataframe tbody tr th {\n",
       "        vertical-align: top;\n",
       "    }\n",
       "\n",
       "    .dataframe thead th {\n",
       "        text-align: right;\n",
       "    }\n",
       "</style>\n",
       "<table border=\"1\" class=\"dataframe\">\n",
       "  <thead>\n",
       "    <tr style=\"text-align: right;\">\n",
       "      <th></th>\n",
       "      <th>id</th>\n",
       "      <th>rating</th>\n",
       "    </tr>\n",
       "  </thead>\n",
       "  <tbody>\n",
       "    <tr>\n",
       "      <th>0</th>\n",
       "      <td>0</td>\n",
       "      <td>0.527103</td>\n",
       "    </tr>\n",
       "    <tr>\n",
       "      <th>1</th>\n",
       "      <td>1</td>\n",
       "      <td>0.255954</td>\n",
       "    </tr>\n",
       "    <tr>\n",
       "      <th>2</th>\n",
       "      <td>2</td>\n",
       "      <td>0.782420</td>\n",
       "    </tr>\n",
       "    <tr>\n",
       "      <th>3</th>\n",
       "      <td>3</td>\n",
       "      <td>0.248875</td>\n",
       "    </tr>\n",
       "    <tr>\n",
       "      <th>4</th>\n",
       "      <td>4</td>\n",
       "      <td>0.241750</td>\n",
       "    </tr>\n",
       "  </tbody>\n",
       "</table>\n",
       "</div>"
      ],
      "text/plain": [
       "   id    rating\n",
       "0   0  0.527103\n",
       "1   1  0.255954\n",
       "2   2  0.782420\n",
       "3   3  0.248875\n",
       "4   4  0.241750"
      ]
     },
     "execution_count": 26,
     "metadata": {},
     "output_type": "execute_result"
    }
   ],
   "source": [
    "sub_5 = pd.read_csv('submission_5.csv')\n",
    "sub_5.head()"
   ]
  },
  {
   "cell_type": "code",
   "execution_count": 31,
   "id": "d2a9d692",
   "metadata": {},
   "outputs": [
    {
     "data": {
      "text/html": [
       "<div>\n",
       "<style scoped>\n",
       "    .dataframe tbody tr th:only-of-type {\n",
       "        vertical-align: middle;\n",
       "    }\n",
       "\n",
       "    .dataframe tbody tr th {\n",
       "        vertical-align: top;\n",
       "    }\n",
       "\n",
       "    .dataframe thead th {\n",
       "        text-align: right;\n",
       "    }\n",
       "</style>\n",
       "<table border=\"1\" class=\"dataframe\">\n",
       "  <thead>\n",
       "    <tr style=\"text-align: right;\">\n",
       "      <th></th>\n",
       "      <th>id</th>\n",
       "      <th>rating_x</th>\n",
       "      <th>rating_y</th>\n",
       "    </tr>\n",
       "  </thead>\n",
       "  <tbody>\n",
       "    <tr>\n",
       "      <th>0</th>\n",
       "      <td>0</td>\n",
       "      <td>0.389411</td>\n",
       "      <td>0.527103</td>\n",
       "    </tr>\n",
       "    <tr>\n",
       "      <th>1</th>\n",
       "      <td>1</td>\n",
       "      <td>0.149365</td>\n",
       "      <td>0.255954</td>\n",
       "    </tr>\n",
       "    <tr>\n",
       "      <th>2</th>\n",
       "      <td>2</td>\n",
       "      <td>0.644389</td>\n",
       "      <td>0.782420</td>\n",
       "    </tr>\n",
       "    <tr>\n",
       "      <th>3</th>\n",
       "      <td>3</td>\n",
       "      <td>0.120672</td>\n",
       "      <td>0.248875</td>\n",
       "    </tr>\n",
       "    <tr>\n",
       "      <th>4</th>\n",
       "      <td>4</td>\n",
       "      <td>0.122026</td>\n",
       "      <td>0.241750</td>\n",
       "    </tr>\n",
       "  </tbody>\n",
       "</table>\n",
       "</div>"
      ],
      "text/plain": [
       "   id  rating_x  rating_y\n",
       "0   0  0.389411  0.527103\n",
       "1   1  0.149365  0.255954\n",
       "2   2  0.644389  0.782420\n",
       "3   3  0.120672  0.248875\n",
       "4   4  0.122026  0.241750"
      ]
     },
     "execution_count": 31,
     "metadata": {},
     "output_type": "execute_result"
    }
   ],
   "source": [
    "final = sub.merge(sub_5, on='id')\n",
    "final.head()"
   ]
  },
  {
   "cell_type": "code",
   "execution_count": 32,
   "id": "59dc730b",
   "metadata": {},
   "outputs": [
    {
     "data": {
      "text/html": [
       "<div>\n",
       "<style scoped>\n",
       "    .dataframe tbody tr th:only-of-type {\n",
       "        vertical-align: middle;\n",
       "    }\n",
       "\n",
       "    .dataframe tbody tr th {\n",
       "        vertical-align: top;\n",
       "    }\n",
       "\n",
       "    .dataframe thead th {\n",
       "        text-align: right;\n",
       "    }\n",
       "</style>\n",
       "<table border=\"1\" class=\"dataframe\">\n",
       "  <thead>\n",
       "    <tr style=\"text-align: right;\">\n",
       "      <th></th>\n",
       "      <th>id</th>\n",
       "      <th>rating_x</th>\n",
       "      <th>rating_y</th>\n",
       "      <th>rating</th>\n",
       "    </tr>\n",
       "  </thead>\n",
       "  <tbody>\n",
       "    <tr>\n",
       "      <th>0</th>\n",
       "      <td>0</td>\n",
       "      <td>0.389411</td>\n",
       "      <td>0.527103</td>\n",
       "      <td>0.458257</td>\n",
       "    </tr>\n",
       "    <tr>\n",
       "      <th>1</th>\n",
       "      <td>1</td>\n",
       "      <td>0.149365</td>\n",
       "      <td>0.255954</td>\n",
       "      <td>0.202660</td>\n",
       "    </tr>\n",
       "    <tr>\n",
       "      <th>2</th>\n",
       "      <td>2</td>\n",
       "      <td>0.644389</td>\n",
       "      <td>0.782420</td>\n",
       "      <td>0.713404</td>\n",
       "    </tr>\n",
       "    <tr>\n",
       "      <th>3</th>\n",
       "      <td>3</td>\n",
       "      <td>0.120672</td>\n",
       "      <td>0.248875</td>\n",
       "      <td>0.184773</td>\n",
       "    </tr>\n",
       "    <tr>\n",
       "      <th>4</th>\n",
       "      <td>4</td>\n",
       "      <td>0.122026</td>\n",
       "      <td>0.241750</td>\n",
       "      <td>0.181888</td>\n",
       "    </tr>\n",
       "  </tbody>\n",
       "</table>\n",
       "</div>"
      ],
      "text/plain": [
       "   id  rating_x  rating_y    rating\n",
       "0   0  0.389411  0.527103  0.458257\n",
       "1   1  0.149365  0.255954  0.202660\n",
       "2   2  0.644389  0.782420  0.713404\n",
       "3   3  0.120672  0.248875  0.184773\n",
       "4   4  0.122026  0.241750  0.181888"
      ]
     },
     "execution_count": 32,
     "metadata": {},
     "output_type": "execute_result"
    }
   ],
   "source": [
    "final['rating'] = final.iloc[:, 1:].mean(axis=1)\n",
    "final.head()"
   ]
  },
  {
   "cell_type": "code",
   "execution_count": 33,
   "id": "d5a6b361",
   "metadata": {},
   "outputs": [
    {
     "data": {
      "text/html": [
       "<div>\n",
       "<style scoped>\n",
       "    .dataframe tbody tr th:only-of-type {\n",
       "        vertical-align: middle;\n",
       "    }\n",
       "\n",
       "    .dataframe tbody tr th {\n",
       "        vertical-align: top;\n",
       "    }\n",
       "\n",
       "    .dataframe thead th {\n",
       "        text-align: right;\n",
       "    }\n",
       "</style>\n",
       "<table border=\"1\" class=\"dataframe\">\n",
       "  <thead>\n",
       "    <tr style=\"text-align: right;\">\n",
       "      <th></th>\n",
       "      <th>id</th>\n",
       "      <th>rating</th>\n",
       "    </tr>\n",
       "  </thead>\n",
       "  <tbody>\n",
       "    <tr>\n",
       "      <th>0</th>\n",
       "      <td>0</td>\n",
       "      <td>0.458257</td>\n",
       "    </tr>\n",
       "    <tr>\n",
       "      <th>1</th>\n",
       "      <td>1</td>\n",
       "      <td>0.202660</td>\n",
       "    </tr>\n",
       "    <tr>\n",
       "      <th>2</th>\n",
       "      <td>2</td>\n",
       "      <td>0.713404</td>\n",
       "    </tr>\n",
       "    <tr>\n",
       "      <th>3</th>\n",
       "      <td>3</td>\n",
       "      <td>0.184773</td>\n",
       "    </tr>\n",
       "    <tr>\n",
       "      <th>4</th>\n",
       "      <td>4</td>\n",
       "      <td>0.181888</td>\n",
       "    </tr>\n",
       "  </tbody>\n",
       "</table>\n",
       "</div>"
      ],
      "text/plain": [
       "   id    rating\n",
       "0   0  0.458257\n",
       "1   1  0.202660\n",
       "2   2  0.713404\n",
       "3   3  0.184773\n",
       "4   4  0.181888"
      ]
     },
     "execution_count": 33,
     "metadata": {},
     "output_type": "execute_result"
    }
   ],
   "source": [
    "final = final[['id', 'rating']]\n",
    "final.head()"
   ]
  },
  {
   "cell_type": "code",
   "execution_count": 34,
   "id": "e3577187",
   "metadata": {},
   "outputs": [],
   "source": [
    "final.to_csv('submission_8.csv', index=False)"
   ]
  },
  {
   "cell_type": "code",
   "execution_count": null,
   "id": "4945cd83",
   "metadata": {},
   "outputs": [],
   "source": []
  }
 ],
 "metadata": {
  "hide_input": false,
  "kernelspec": {
   "display_name": "Python 3 (ipykernel)",
   "language": "python",
   "name": "python3"
  },
  "language_info": {
   "codemirror_mode": {
    "name": "ipython",
    "version": 3
   },
   "file_extension": ".py",
   "mimetype": "text/x-python",
   "name": "python",
   "nbconvert_exporter": "python",
   "pygments_lexer": "ipython3",
   "version": "3.8.11"
  }
 },
 "nbformat": 4,
 "nbformat_minor": 5
}
